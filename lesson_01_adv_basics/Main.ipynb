{
 "cells": [
  {
   "cell_type": "code",
   "execution_count": 146,
   "id": "bc84789b",
   "metadata": {},
   "outputs": [
    {
     "name": "stdout",
     "output_type": "stream",
     "text": [
      "12 'Hello ℙƴ☂ℌøἤ'\n",
      "22 b'Hello \\xe2\\x84\\x99\\xc6\\xb4\\xe2\\x98\\x82\\xe2\\x84\\x8c\\xc3\\xb8\\xe1\\xbc\\xa4'\n",
      "'Hello ℙƴ☂ℌøἤ'\n"
     ]
    }
   ],
   "source": [
    "unicode_string = u\"Hello \\u2119\\u01b4\\u2602\\u210c\\xf8\\u1f24\"\n",
    "print(len(unicode_string), repr(unicode_string))\n",
    "\n",
    "utf8_string = unicode_string.encode(\"utf-8\")\n",
    "print(len(utf8_string), repr(utf8_string))\n",
    "print(repr(utf8_string.decode(\"utf-8\")))"
   ]
  },
  {
   "cell_type": "code",
   "execution_count": 147,
   "id": "76740f23",
   "metadata": {},
   "outputs": [
    {
     "name": "stdout",
     "output_type": "stream",
     "text": [
      "utf-8\n"
     ]
    }
   ],
   "source": [
    "import sys\n",
    "print(sys.getdefaultencoding())"
   ]
  },
  {
   "cell_type": "code",
   "execution_count": 148,
   "id": "0fd5c269",
   "metadata": {},
   "outputs": [
    {
     "ename": "TypeError",
     "evalue": "'bytes' object cannot be interpreted as an integer",
     "output_type": "error",
     "traceback": [
      "\u001b[0;31m---------------------------------------------------------------------------\u001b[0m",
      "\u001b[0;31mTypeError\u001b[0m                                 Traceback (most recent call last)",
      "Input \u001b[0;32mIn [148]\u001b[0m, in \u001b[0;36m<cell line: 2>\u001b[0;34m()\u001b[0m\n\u001b[1;32m      1\u001b[0m u_str \u001b[38;5;241m=\u001b[39m \u001b[38;5;124mu\u001b[39m\u001b[38;5;124m'\u001b[39m\u001b[38;5;124mHi\u001b[39m\u001b[38;5;124m'\u001b[39m\n\u001b[0;32m----> 2\u001b[0m \u001b[38;5;28;43mbin\u001b[39;49m\u001b[43m(\u001b[49m\u001b[43mu_str\u001b[49m\u001b[38;5;241;43m.\u001b[39;49m\u001b[43mencode\u001b[49m\u001b[43m(\u001b[49m\u001b[38;5;124;43m'\u001b[39;49m\u001b[38;5;124;43mutf-8\u001b[39;49m\u001b[38;5;124;43m'\u001b[39;49m\u001b[43m)\u001b[49m\u001b[43m)\u001b[49m\n",
      "\u001b[0;31mTypeError\u001b[0m: 'bytes' object cannot be interpreted as an integer"
     ]
    }
   ],
   "source": [
    "u_str = u'Hi'\n",
    "bin(u_str.encode('utf-8'))"
   ]
  },
  {
   "cell_type": "code",
   "execution_count": null,
   "id": "93905e34",
   "metadata": {},
   "outputs": [],
   "source": [
    "def bitstring_to_bytes(s):\n",
    "    v = int(s, 2)\n",
    "    b = bytearray()\n",
    "    while v:\n",
    "        b.append(v & 0xff)\n",
    "        v >>= 8\n",
    "    return bytes(b[::-1])\n",
    "\n",
    "s = \"0110100001101001\"\n",
    "print(bitstring_to_bytes(s))"
   ]
  },
  {
   "cell_type": "code",
   "execution_count": null,
   "id": "ce5a0bec",
   "metadata": {},
   "outputs": [],
   "source": [
    "cafe = bytes('café', encoding='utf_8')\n",
    "cafe"
   ]
  },
  {
   "cell_type": "code",
   "execution_count": null,
   "id": "dfc91b3a",
   "metadata": {},
   "outputs": [],
   "source": [
    "st = 'fdfd'\n",
    "st[-1:]"
   ]
  },
  {
   "cell_type": "code",
   "execution_count": null,
   "id": "9c3bfbaa",
   "metadata": {},
   "outputs": [],
   "source": [
    "st = u'баба-яга'\n",
    "st.encode('utf-8').decode()"
   ]
  },
  {
   "cell_type": "code",
   "execution_count": null,
   "id": "48ab5d74",
   "metadata": {},
   "outputs": [],
   "source": [
    "'\\x61'"
   ]
  },
  {
   "cell_type": "code",
   "execution_count": null,
   "id": "3db75ab0",
   "metadata": {},
   "outputs": [],
   "source": [
    "struct.unpack('>4b', x)"
   ]
  },
  {
   "cell_type": "code",
   "execution_count": null,
   "id": "eb612dcb",
   "metadata": {},
   "outputs": [],
   "source": [
    "s = u'алв'\n",
    "s = s.encode('ascii', \"xmlcharrefreplace\")\n"
   ]
  },
  {
   "cell_type": "code",
   "execution_count": null,
   "id": "2b4e7e71",
   "metadata": {},
   "outputs": [],
   "source": [
    "s = u'адв'\n",
    "s\n",
    "print(ord('а'))\n",
    "print(ord(u'а'))"
   ]
  },
  {
   "cell_type": "code",
   "execution_count": null,
   "id": "e389ed40",
   "metadata": {},
   "outputs": [],
   "source": [
    "a = 3.0, b = 1.0e9, c = 5.0;\n",
    "d = b*b - 4.0*a*c;\n",
    "r1 = (-b - sqrt(d))/(2.0*a);\n",
    "r2 = (-b + sqrt(d))/(2.0*a);"
   ]
  },
  {
   "cell_type": "code",
   "execution_count": null,
   "id": "7029ed80",
   "metadata": {},
   "outputs": [],
   "source": [
    "a = float(3.0)\n",
    "b = float(1.0e9)\n",
    "c = float(5.0)\n",
    "d = b*b - float(4.0)*a*c;\n",
    "import math\n",
    "r1 = (-b - math.sqrt(d))/(2.0*a);\n",
    "r2 = (-b + math.sqrt(d))/(2.0*a);\n",
    "r1, r2, b, math.sqrt(d), d"
   ]
  },
  {
   "cell_type": "code",
   "execution_count": null,
   "id": "41e0ae12",
   "metadata": {},
   "outputs": [],
   "source": [
    "x = 1000\n",
    "t = math.exp(x)\n",
    "y = t/(1+t)\n",
    "y"
   ]
  },
  {
   "cell_type": "code",
   "execution_count": null,
   "id": "c9f1d56f",
   "metadata": {},
   "outputs": [],
   "source": [
    "import sys\n",
    "sys.byteorder"
   ]
  },
  {
   "cell_type": "code",
   "execution_count": null,
   "id": "8b1cc11d",
   "metadata": {},
   "outputs": [],
   "source": [
    "import struct\n",
    "struct.pack(\"=xhxxhx\", 255, 16)"
   ]
  },
  {
   "cell_type": "code",
   "execution_count": null,
   "id": "742cb827",
   "metadata": {},
   "outputs": [],
   "source": [
    "print(struct.unpack('2s', b'cd'))\n",
    "struct.unpack('10c', b'cdfdsdfdfd')"
   ]
  },
  {
   "cell_type": "code",
   "execution_count": null,
   "id": "64362783",
   "metadata": {},
   "outputs": [],
   "source": [
    "import itertools\n",
    "\n",
    "class Node:\n",
    "    def __init__(self, value):\n",
    "        self._value = value\n",
    "        self._children = []\n",
    "        \n",
    "    def __str__(self):\n",
    "        return \"Node(%s)\" % self._value\n",
    "    \n",
    "    def __repr__(self):\n",
    "        return \"<Node: _value=%s>\" % self._value\n",
    "    \n",
    "    def add_child(self, node):\n",
    "        self._children.append(node)\n",
    "        \n",
    "    def __iter__(self):\n",
    "        return iter(self._children)\n",
    "        \n",
    "    def depth_first(self):\n",
    "        return itertools.chain([self], *[c.depth_first() for c in self])\n",
    "#         check how it works\n",
    "#         return itertools.chain.from_iterable((self, (c.depth_first() for c in self)))\n",
    "    \n",
    "root = Node(0)\n",
    "print(list(root))\n",
    "child1 = Node(1)\n",
    "child2 = Node(2)\n",
    "root.add_child(child1)\n",
    "root.add_child(child2)\n",
    "print(root)\n",
    "print(list(root))\n",
    "print(list(root.depth_first()))\n",
    "for e in root:\n",
    "    print(e)\n",
    "\n",
    "child1.add_child(Node(3))\n",
    "child1.add_child(Node(4))\n",
    "child2.add_child(Node(5))\n",
    "for ch in root.depth_first():\n",
    "    print(ch)"
   ]
  },
  {
   "cell_type": "code",
   "execution_count": null,
   "id": "ae264ce3",
   "metadata": {},
   "outputs": [],
   "source": [
    "print(*itertools.chain([1], *[itertools.chain(*[[1],[2], itertools.chain([10,20],[10,40],[20])],[1,4],[2]), [1]]))"
   ]
  },
  {
   "cell_type": "code",
   "execution_count": null,
   "id": "3bf952e6",
   "metadata": {},
   "outputs": [],
   "source": [
    "class Node:\n",
    "    def __init__(self, value):\n",
    "        self._value = value\n",
    "        self._children = []\n",
    "        \n",
    "    def __str__(self):\n",
    "        return \"Node(%s)\" % self._value\n",
    "    \n",
    "    def __repr__(self):\n",
    "        return \"<Node: _value=%s>\" % self._value\n",
    "    \n",
    "    def add_child(self, node):\n",
    "        self._children.append(node)\n",
    "        \n",
    "    def __iter__(self):\n",
    "        return iter(self._children)\n",
    "        \n",
    "    def depth_first(self):\n",
    "        return DepthFirstIterator(self)\n",
    "    \n",
    "class DepthFirstIterator:\n",
    "    '''\n",
    "    Depth-first traversal\n",
    "    '''\n",
    "    def __init__(self, start_node): \n",
    "        self._node = start_node\n",
    "        self._children_iter = None\n",
    "        self._child_iter = None\n",
    "        \n",
    "    def __iter__(self):\n",
    "        return self\n",
    "    \n",
    "    def __next__(self):\n",
    "        # Return myself if just started; create an iterator for children\n",
    "        if self._children_iter is None:\n",
    "            self._children_iter = iter(self._node)\n",
    "            return self._node\n",
    "        # If processing a child, return its next item \n",
    "        elif self._child_iter:\n",
    "            try:\n",
    "                nextchild = next(self._child_iter)\n",
    "                return nextchild\n",
    "            except StopIteration:\n",
    "                self._child_iter = None\n",
    "                return next(self)\n",
    "        # Advance to the next chilf and start start its iteration\n",
    "        else:\n",
    "            self._child_iter = next(self._children_iter).depth_first()\n",
    "            return next(self)\n",
    "\n",
    "root = Node(0)\n",
    "print(list(root))\n",
    "child1 = Node(1)\n",
    "child2 = Node(2)\n",
    "root.add_child(child1)\n",
    "root.add_child(child2)\n",
    "print(root)\n",
    "print(list(root))\n",
    "print(list(root.depth_first()))\n",
    "for e in root:\n",
    "    print(e)\n",
    "\n",
    "child1.add_child(Node(3))\n",
    "child1.add_child(Node(4))\n",
    "child2.add_child(Node(5))\n",
    "for ch in root.depth_first():\n",
    "    print(ch)\n",
    "\n",
    "            "
   ]
  },
  {
   "cell_type": "code",
   "execution_count": null,
   "id": "fb1f5de3",
   "metadata": {},
   "outputs": [],
   "source": [
    "class TailCall(object) :\n",
    "    def __init__(self, call, *args, **kwargs) :\n",
    "        self.call = call\n",
    "        self.args = args\n",
    "        self.kwargs = kwargs\n",
    "    def handle(self) :\n",
    "        return self.call(*self.args, **self.kwargs)\n"
   ]
  },
  {
   "cell_type": "code",
   "execution_count": null,
   "id": "adbd1e4b",
   "metadata": {},
   "outputs": [],
   "source": [
    "def t(f) :\n",
    "    def _f(*args, **kwargs) :\n",
    "        ret = f(*args, **kwargs)\n",
    "        while type(ret) is TailCall :\n",
    "            ret = ret.handle()\n",
    "        return ret\n",
    "    return _f"
   ]
  },
  {
   "cell_type": "code",
   "execution_count": null,
   "id": "22346458",
   "metadata": {},
   "outputs": [],
   "source": [
    "def fact(n, r=1) :\n",
    "    if n <= 1 :\n",
    "        return r\n",
    "    else :\n",
    "        return TailCall(fact, n-1, n*r)\n"
   ]
  },
  {
   "cell_type": "code",
   "execution_count": null,
   "id": "d13d2624",
   "metadata": {},
   "outputs": [],
   "source": [
    "f_t = t(fact)"
   ]
  },
  {
   "cell_type": "code",
   "execution_count": null,
   "id": "d6d2e1c5",
   "metadata": {},
   "outputs": [],
   "source": [
    "f_t(5, 3)"
   ]
  },
  {
   "cell_type": "code",
   "execution_count": null,
   "id": "6a347901",
   "metadata": {},
   "outputs": [],
   "source": [
    "bin(-2).encode('utf-8')"
   ]
  },
  {
   "cell_type": "code",
   "execution_count": null,
   "id": "33967a0c",
   "metadata": {},
   "outputs": [],
   "source": [
    "cmpl = complex(5,2)\n",
    "cmpl.real, cmpl.imag\n"
   ]
  },
  {
   "cell_type": "code",
   "execution_count": null,
   "id": "2c153c8e",
   "metadata": {},
   "outputs": [],
   "source": [
    "seq = 'abcde'\n",
    "print(seq[2::-3])"
   ]
  },
  {
   "cell_type": "code",
   "execution_count": null,
   "id": "5e1d0d10",
   "metadata": {},
   "outputs": [],
   "source": [
    "chr(10FFFF)"
   ]
  },
  {
   "cell_type": "code",
   "execution_count": null,
   "id": "4ece71bf",
   "metadata": {},
   "outputs": [],
   "source": [
    "chr(int('a101', 16)).encode()"
   ]
  },
  {
   "cell_type": "code",
   "execution_count": null,
   "id": "517de9f2",
   "metadata": {},
   "outputs": [],
   "source": [
    "b'ea1b5c'.decode()"
   ]
  },
  {
   "cell_type": "code",
   "execution_count": null,
   "id": "ace3ac40",
   "metadata": {},
   "outputs": [],
   "source": [
    "d = {\n",
    "    \"a\": 1, \"b\": 2, \"c\": 3,\n",
    "}\n",
    "for k,v in d.items():\n",
    "    print(k,v)"
   ]
  },
  {
   "cell_type": "code",
   "execution_count": null,
   "id": "64080a3b",
   "metadata": {},
   "outputs": [],
   "source": [
    "from itertools import x\n",
    "itertools.__dict__"
   ]
  },
  {
   "cell_type": "code",
   "execution_count": null,
   "id": "0c557b12",
   "metadata": {},
   "outputs": [],
   "source": [
    "import notebook\n",
    "notebook.__dict__"
   ]
  },
  {
   "cell_type": "code",
   "execution_count": null,
   "id": "1afa5f61",
   "metadata": {},
   "outputs": [],
   "source": [
    "itertools.__annotations__"
   ]
  },
  {
   "cell_type": "code",
   "execution_count": 1,
   "id": "63d18480",
   "metadata": {},
   "outputs": [],
   "source": [
    "def echo(value = None):\n",
    "    print(\"Execution starts when 'next()' is called for the first time.\")\n",
    "    try:\n",
    "        while True:\n",
    "            try:\n",
    "                value = (yield value)\n",
    "            except Exception as e:\n",
    "                value = e\n",
    "    except Exception as e:\n",
    "        print(e)\n",
    "    finally:\n",
    "        print(\"Don't forget to clean up when 'close()' is called.\")\n"
   ]
  },
  {
   "cell_type": "code",
   "execution_count": 10,
   "id": "c35680f2",
   "metadata": {},
   "outputs": [
    {
     "name": "stdout",
     "output_type": "stream",
     "text": [
      "Don't forget to clean up when 'close()' is called.\n",
      "Execution starts when 'next()' is called for the first time.\n"
     ]
    },
    {
     "data": {
      "text/plain": [
       "5"
      ]
     },
     "execution_count": 10,
     "metadata": {},
     "output_type": "execute_result"
    }
   ],
   "source": [
    "g = echo(5)\n",
    "next(g)\n",
    "# print(value)\n",
    "# next(g)"
   ]
  },
  {
   "cell_type": "code",
   "execution_count": 15,
   "id": "66a06482",
   "metadata": {},
   "outputs": [],
   "source": [
    "class Sample:\n",
    "        def __init__(self, *args):\n",
    "            self.foo = 'bar'\n",
    "            self.buzz = 'jazz'\n",
    "            self.spam = \"egg\""
   ]
  },
  {
   "cell_type": "code",
   "execution_count": 24,
   "id": "4f47505f",
   "metadata": {},
   "outputs": [
    {
     "name": "stdout",
     "output_type": "stream",
     "text": [
      "{'foo': 'bar', 'buzz': 'jazz', 'spam': 'egg'}\n"
     ]
    },
    {
     "ename": "KeyError",
     "evalue": "'foo, buzz'",
     "output_type": "error",
     "traceback": [
      "\u001b[0;31m---------------------------------------------------------------------------\u001b[0m",
      "\u001b[0;31mKeyError\u001b[0m                                  Traceback (most recent call last)",
      "Input \u001b[0;32mIn [24]\u001b[0m, in \u001b[0;36m<cell line: 6>\u001b[0;34m()\u001b[0m\n\u001b[1;32m      3\u001b[0m \u001b[38;5;66;03m# Sample['foo', 'bar']\u001b[39;00m\n\u001b[1;32m      5\u001b[0m dc \u001b[38;5;241m=\u001b[39m {\u001b[38;5;124m'\u001b[39m\u001b[38;5;124mfoo\u001b[39m\u001b[38;5;124m'\u001b[39m: \u001b[38;5;124m'\u001b[39m\u001b[38;5;124mbar\u001b[39m\u001b[38;5;124m'\u001b[39m, \u001b[38;5;124m'\u001b[39m\u001b[38;5;124mbuzz\u001b[39m\u001b[38;5;124m'\u001b[39m: \u001b[38;5;124m'\u001b[39m\u001b[38;5;124mjazz\u001b[39m\u001b[38;5;124m'\u001b[39m, \u001b[38;5;124m'\u001b[39m\u001b[38;5;124mspam\u001b[39m\u001b[38;5;124m'\u001b[39m: \u001b[38;5;124m'\u001b[39m\u001b[38;5;124megg\u001b[39m\u001b[38;5;124m'\u001b[39m}\n\u001b[0;32m----> 6\u001b[0m \u001b[43mdc\u001b[49m\u001b[43m[\u001b[49m\u001b[38;5;124;43m'\u001b[39;49m\u001b[38;5;124;43mfoo, buzz\u001b[39;49m\u001b[38;5;124;43m'\u001b[39;49m\u001b[43m]\u001b[49m\n",
      "\u001b[0;31mKeyError\u001b[0m: 'foo, buzz'"
     ]
    }
   ],
   "source": [
    "smpl = Sample()\n",
    "print(vars(smpl))\n",
    "# Sample['foo', 'bar']\n",
    "\n",
    "dc = {'foo': 'bar', 'buzz': 'jazz', 'spam': 'egg'}\n",
    "dc['foo, buzz']"
   ]
  },
  {
   "cell_type": "code",
   "execution_count": 25,
   "id": "47b87b94",
   "metadata": {},
   "outputs": [
    {
     "name": "stdout",
     "output_type": "stream",
     "text": [
      "{}\n"
     ]
    }
   ],
   "source": [
    "class Base:\n",
    "    a: int = 3\n",
    "    b: str = 'abc'\n",
    "\n",
    "class Derived(Base):\n",
    "    pass\n",
    "\n",
    "print(Derived.__annotations__)"
   ]
  },
  {
   "cell_type": "code",
   "execution_count": 29,
   "id": "c14bc73a",
   "metadata": {},
   "outputs": [],
   "source": [
    "class Sample:\n",
    "        def __init__(self, *args):\n",
    "            self.foo = 'bar'\n",
    "            self.buzz = 'jazz'\n",
    "            self.spam = \"egg\"\n",
    "        def __hash__(self):\n",
    "            if self.denominator == 1:\n",
    "                # Get integers right.\n",
    "                return hash(self.numerator)\n",
    "            # Expensive check, but definitely correct.\n",
    "            if self == float(self):\n",
    "                return hash(float(self))\n",
    "            else:\n",
    "                # Use tuple's hash to avoid a high collision rate on\n",
    "                # simple fractions.\n",
    "                return hash((self.numerator, self.denominator))\n",
    "smp = Sample()    "
   ]
  },
  {
   "cell_type": "code",
   "execution_count": 31,
   "id": "43a26ca5",
   "metadata": {},
   "outputs": [
    {
     "ename": "AttributeError",
     "evalue": "'Sample' object has no attribute 'denominator'",
     "output_type": "error",
     "traceback": [
      "\u001b[0;31m---------------------------------------------------------------------------\u001b[0m",
      "\u001b[0;31mAttributeError\u001b[0m                            Traceback (most recent call last)",
      "Input \u001b[0;32mIn [31]\u001b[0m, in \u001b[0;36m<cell line: 1>\u001b[0;34m()\u001b[0m\n\u001b[0;32m----> 1\u001b[0m \u001b[43msmp\u001b[49m\u001b[38;5;241;43m.\u001b[39;49m\u001b[38;5;21;43m__hash__\u001b[39;49m\u001b[43m(\u001b[49m\u001b[43m)\u001b[49m\n",
      "Input \u001b[0;32mIn [29]\u001b[0m, in \u001b[0;36mSample.__hash__\u001b[0;34m(self)\u001b[0m\n\u001b[1;32m      6\u001b[0m \u001b[38;5;28;01mdef\u001b[39;00m \u001b[38;5;21m__hash__\u001b[39m(\u001b[38;5;28mself\u001b[39m):\n\u001b[0;32m----> 7\u001b[0m     \u001b[38;5;28;01mif\u001b[39;00m \u001b[38;5;28;43mself\u001b[39;49m\u001b[38;5;241;43m.\u001b[39;49m\u001b[43mdenominator\u001b[49m \u001b[38;5;241m==\u001b[39m \u001b[38;5;241m1\u001b[39m:\n\u001b[1;32m      8\u001b[0m         \u001b[38;5;66;03m# Get integers right.\u001b[39;00m\n\u001b[1;32m      9\u001b[0m         \u001b[38;5;28;01mreturn\u001b[39;00m \u001b[38;5;28mhash\u001b[39m(\u001b[38;5;28mself\u001b[39m\u001b[38;5;241m.\u001b[39mnumerator)\n\u001b[1;32m     10\u001b[0m     \u001b[38;5;66;03m# Expensive check, but definitely correct.\u001b[39;00m\n",
      "\u001b[0;31mAttributeError\u001b[0m: 'Sample' object has no attribute 'denominator'"
     ]
    }
   ],
   "source": [
    "smp.__hash__()"
   ]
  },
  {
   "cell_type": "code",
   "execution_count": 37,
   "id": "154b02a3",
   "metadata": {},
   "outputs": [
    {
     "name": "stdout",
     "output_type": "stream",
     "text": [
      "{'a': 1, 'v': 2}\n",
      "defaultdict(None, {})\n",
      "a\n",
      "v\n"
     ]
    }
   ],
   "source": [
    "dct = {'a': 1, 'v': 2}\n",
    "import collections\n",
    "dct1 = collections.defaultdict()\n",
    "print(dct)\n",
    "print(dct1)\n",
    "for k in dct:\n",
    "    print(k)"
   ]
  },
  {
   "cell_type": "code",
   "execution_count": 38,
   "id": "eeaa901c",
   "metadata": {},
   "outputs": [
    {
     "ename": "AttributeError",
     "evalue": "'generator' object has no attribute 'next'",
     "output_type": "error",
     "traceback": [
      "\u001b[0;31m---------------------------------------------------------------------------\u001b[0m",
      "\u001b[0;31mAttributeError\u001b[0m                            Traceback (most recent call last)",
      "Input \u001b[0;32mIn [38]\u001b[0m, in \u001b[0;36m<cell line: 10>\u001b[0;34m()\u001b[0m\n\u001b[1;32m      7\u001b[0m         \u001b[38;5;28mprint\u001b[39m(\u001b[38;5;124m\"\u001b[39m\u001b[38;5;124mBoom!\u001b[39m\u001b[38;5;124m\"\u001b[39m)\n\u001b[1;32m      9\u001b[0m r \u001b[38;5;241m=\u001b[39m recv_count()\n\u001b[0;32m---> 10\u001b[0m \u001b[43mr\u001b[49m\u001b[38;5;241;43m.\u001b[39;49m\u001b[43mnext\u001b[49m() \u001b[38;5;66;03m# mandatory\u001b[39;00m\n\u001b[1;32m     11\u001b[0m \u001b[38;5;28;01mfor\u001b[39;00m i \u001b[38;5;129;01min\u001b[39;00m \u001b[38;5;28mrange\u001b[39m(\u001b[38;5;241m5\u001b[39m, \u001b[38;5;241m0\u001b[39m, \u001b[38;5;241m-\u001b[39m\u001b[38;5;241m1\u001b[39m):\n\u001b[1;32m     12\u001b[0m     r\u001b[38;5;241m.\u001b[39msend(i)\n",
      "\u001b[0;31mAttributeError\u001b[0m: 'generator' object has no attribute 'next'"
     ]
    }
   ],
   "source": [
    "def recv_count():\n",
    "    try:\n",
    "        while True:\n",
    "            n = yield\n",
    "            print(\"T-minus\", n)\n",
    "    except GeneratorExit:\n",
    "        print(\"Boom!\")\n",
    "\n",
    "r = recv_count()\n",
    "r.next() # mandatory\n",
    "for i in range(5, 0, -1):\n",
    "    r.send(i)\n",
    "\n",
    "r.close()\n"
   ]
  }
 ],
 "metadata": {
  "kernelspec": {
   "display_name": "Python 3 (ipykernel)",
   "language": "python",
   "name": "python3"
  },
  "language_info": {
   "codemirror_mode": {
    "name": "ipython",
    "version": 3
   },
   "file_extension": ".py",
   "mimetype": "text/x-python",
   "name": "python",
   "nbconvert_exporter": "python",
   "pygments_lexer": "ipython3",
   "version": "3.10.6"
  }
 },
 "nbformat": 4,
 "nbformat_minor": 5
}
