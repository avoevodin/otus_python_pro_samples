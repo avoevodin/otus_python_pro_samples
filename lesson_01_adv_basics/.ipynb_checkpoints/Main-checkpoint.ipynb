{
 "cells": [
  {
   "cell_type": "code",
   "execution_count": 5,
   "id": "56079f0e",
   "metadata": {},
   "outputs": [
    {
     "name": "stdout",
     "output_type": "stream",
     "text": [
      "12 'Hello ℙƴ☂ℌøἤ'\n",
      "22 b'Hello \\xe2\\x84\\x99\\xc6\\xb4\\xe2\\x98\\x82\\xe2\\x84\\x8c\\xc3\\xb8\\xe1\\xbc\\xa4'\n",
      "'Hello ℙƴ☂ℌøἤ'\n"
     ]
    }
   ],
   "source": [
    "unicode_string = u\"Hello \\u2119\\u01b4\\u2602\\u210c\\xf8\\u1f24\"\n",
    "print(len(unicode_string), repr(unicode_string))\n",
    "\n",
    "utf8_string = unicode_string.encode(\"utf-8\")\n",
    "print(len(utf8_string), repr(utf8_string))\n",
    "print(repr(utf8_string.decode(\"utf-8\")))"
   ]
  },
  {
   "cell_type": "code",
   "execution_count": 8,
   "id": "7a0f3468",
   "metadata": {},
   "outputs": [
    {
     "name": "stdout",
     "output_type": "stream",
     "text": [
      "utf-8\n"
     ]
    }
   ],
   "source": [
    "import sys\n",
    "print(sys.getdefaultencoding())"
   ]
  },
  {
   "cell_type": "code",
   "execution_count": 34,
   "id": "c2ac897c",
   "metadata": {},
   "outputs": [
    {
     "ename": "TypeError",
     "evalue": "'bytes' object cannot be interpreted as an integer",
     "output_type": "error",
     "traceback": [
      "\u001b[0;31m---------------------------------------------------------------------------\u001b[0m",
      "\u001b[0;31mTypeError\u001b[0m                                 Traceback (most recent call last)",
      "Input \u001b[0;32mIn [34]\u001b[0m, in \u001b[0;36m<cell line: 2>\u001b[0;34m()\u001b[0m\n\u001b[1;32m      1\u001b[0m u_str \u001b[38;5;241m=\u001b[39m \u001b[38;5;124mu\u001b[39m\u001b[38;5;124m'\u001b[39m\u001b[38;5;124mHi\u001b[39m\u001b[38;5;124m'\u001b[39m\n\u001b[0;32m----> 2\u001b[0m \u001b[38;5;28;43mbin\u001b[39;49m\u001b[43m(\u001b[49m\u001b[43mu_str\u001b[49m\u001b[38;5;241;43m.\u001b[39;49m\u001b[43mencode\u001b[49m\u001b[43m(\u001b[49m\u001b[38;5;124;43m'\u001b[39;49m\u001b[38;5;124;43mutf-8\u001b[39;49m\u001b[38;5;124;43m'\u001b[39;49m\u001b[43m)\u001b[49m\u001b[43m)\u001b[49m\n",
      "\u001b[0;31mTypeError\u001b[0m: 'bytes' object cannot be interpreted as an integer"
     ]
    }
   ],
   "source": [
    "u_str = u'Hi'\n",
    "bin(u_str.encode('utf-8'))"
   ]
  },
  {
   "cell_type": "code",
   "execution_count": 33,
   "id": "755c09c5",
   "metadata": {},
   "outputs": [
    {
     "name": "stdout",
     "output_type": "stream",
     "text": [
      "b'hi'\n"
     ]
    }
   ],
   "source": [
    "def bitstring_to_bytes(s):\n",
    "    v = int(s, 2)\n",
    "    b = bytearray()\n",
    "    while v:\n",
    "        b.append(v & 0xff)\n",
    "        v >>= 8\n",
    "    return bytes(b[::-1])\n",
    "\n",
    "s = \"0110100001101001\"\n",
    "print(bitstring_to_bytes(s))"
   ]
  },
  {
   "cell_type": "code",
   "execution_count": 37,
   "id": "eeb0f101",
   "metadata": {},
   "outputs": [
    {
     "data": {
      "text/plain": [
       "b'caf\\xc3\\xa9'"
      ]
     },
     "execution_count": 37,
     "metadata": {},
     "output_type": "execute_result"
    }
   ],
   "source": [
    "cafe = bytes('café', encoding='utf_8')\n",
    "cafe"
   ]
  },
  {
   "cell_type": "code",
   "execution_count": 54,
   "id": "19eb67a2",
   "metadata": {},
   "outputs": [
    {
     "data": {
      "text/plain": [
       "'d'"
      ]
     },
     "execution_count": 54,
     "metadata": {},
     "output_type": "execute_result"
    }
   ],
   "source": [
    "st = 'fdfd'\n",
    "st[-1:]"
   ]
  },
  {
   "cell_type": "code",
   "execution_count": 64,
   "id": "8b981699",
   "metadata": {},
   "outputs": [
    {
     "data": {
      "text/plain": [
       "'баба-яга'"
      ]
     },
     "execution_count": 64,
     "metadata": {},
     "output_type": "execute_result"
    }
   ],
   "source": [
    "st = u'баба-яга'\n",
    "st.encode('utf-8').decode()"
   ]
  },
  {
   "cell_type": "code",
   "execution_count": 66,
   "id": "ccd7d61f",
   "metadata": {},
   "outputs": [
    {
     "data": {
      "text/plain": [
       "'a'"
      ]
     },
     "execution_count": 66,
     "metadata": {},
     "output_type": "execute_result"
    }
   ],
   "source": [
    "'\\x61'"
   ]
  },
  {
   "cell_type": "code",
   "execution_count": 68,
   "id": "efeefd9d",
   "metadata": {},
   "outputs": [
    {
     "ename": "NameError",
     "evalue": "name 'struct' is not defined",
     "output_type": "error",
     "traceback": [
      "\u001b[0;31m---------------------------------------------------------------------------\u001b[0m",
      "\u001b[0;31mNameError\u001b[0m                                 Traceback (most recent call last)",
      "Input \u001b[0;32mIn [68]\u001b[0m, in \u001b[0;36m<cell line: 1>\u001b[0;34m()\u001b[0m\n\u001b[0;32m----> 1\u001b[0m \u001b[43mstruct\u001b[49m\u001b[38;5;241m.\u001b[39munpack(\u001b[38;5;124m'\u001b[39m\u001b[38;5;124m>4b\u001b[39m\u001b[38;5;124m'\u001b[39m, x)\n",
      "\u001b[0;31mNameError\u001b[0m: name 'struct' is not defined"
     ]
    }
   ],
   "source": [
    "struct.unpack('>4b', x)"
   ]
  },
  {
   "cell_type": "code",
   "execution_count": 92,
   "id": "a076483b",
   "metadata": {},
   "outputs": [
    {
     "data": {
      "text/plain": [
       "b'&#1072;&#1083;&#1074;'"
      ]
     },
     "execution_count": 92,
     "metadata": {},
     "output_type": "execute_result"
    }
   ],
   "source": [
    "s = u'алв'\n",
    "s = s.encode('ascii', \"xmlcharrefreplace\")\n"
   ]
  },
  {
   "cell_type": "code",
   "execution_count": 99,
   "id": "0a840f57",
   "metadata": {},
   "outputs": [
    {
     "name": "stdout",
     "output_type": "stream",
     "text": [
      "1072\n",
      "1072\n"
     ]
    }
   ],
   "source": [
    "s = u'адв'\n",
    "s\n",
    "print(ord('а'))\n",
    "print(ord(u'а'))"
   ]
  },
  {
   "cell_type": "code",
   "execution_count": 100,
   "id": "50ba4288",
   "metadata": {},
   "outputs": [
    {
     "ename": "SyntaxError",
     "evalue": "cannot assign to literal (2469446806.py, line 1)",
     "output_type": "error",
     "traceback": [
      "\u001b[0;36m  Input \u001b[0;32mIn [100]\u001b[0;36m\u001b[0m\n\u001b[0;31m    a = 3.0, b = 1.0e9, c = 5.0;\u001b[0m\n\u001b[0m        ^\u001b[0m\n\u001b[0;31mSyntaxError\u001b[0m\u001b[0;31m:\u001b[0m cannot assign to literal\n"
     ]
    }
   ],
   "source": [
    "a = 3.0, b = 1.0e9, c = 5.0;\n",
    "d = b*b - 4.0*a*c;\n",
    "r1 = (-b - sqrt(d))/(2.0*a);\n",
    "r2 = (-b + sqrt(d))/(2.0*a);"
   ]
  },
  {
   "cell_type": "code",
   "execution_count": 113,
   "id": "a56e741a",
   "metadata": {},
   "outputs": [
    {
     "data": {
      "text/plain": [
       "(-333333333.3333333, 0.0, 1000000000.0, 1000000000.0, 1e+18)"
      ]
     },
     "execution_count": 113,
     "metadata": {},
     "output_type": "execute_result"
    }
   ],
   "source": [
    "a = float(3.0)\n",
    "b = float(1.0e9)\n",
    "c = float(5.0)\n",
    "d = b*b - float(4.0)*a*c;\n",
    "import math\n",
    "r1 = (-b - math.sqrt(d))/(2.0*a);\n",
    "r2 = (-b + math.sqrt(d))/(2.0*a);\n",
    "r1, r2, b, math.sqrt(d), d"
   ]
  },
  {
   "cell_type": "code",
   "execution_count": 120,
   "id": "556eea7d",
   "metadata": {},
   "outputs": [
    {
     "ename": "OverflowError",
     "evalue": "math range error",
     "output_type": "error",
     "traceback": [
      "\u001b[0;31m---------------------------------------------------------------------------\u001b[0m",
      "\u001b[0;31mOverflowError\u001b[0m                             Traceback (most recent call last)",
      "Input \u001b[0;32mIn [120]\u001b[0m, in \u001b[0;36m<cell line: 3>\u001b[0;34m()\u001b[0m\n\u001b[1;32m      1\u001b[0m x \u001b[38;5;241m=\u001b[39m \u001b[38;5;241m1000\u001b[39m\n\u001b[0;32m----> 3\u001b[0m y \u001b[38;5;241m=\u001b[39m \u001b[43mmath\u001b[49m\u001b[38;5;241;43m.\u001b[39;49m\u001b[43mexp\u001b[49m\u001b[43m(\u001b[49m\u001b[43mx\u001b[49m\u001b[43m)\u001b[49m\u001b[38;5;241m/\u001b[39m(\u001b[38;5;241m1\u001b[39m\u001b[38;5;241m+\u001b[39mmath\u001b[38;5;241m.\u001b[39mexp(x))\n\u001b[1;32m      4\u001b[0m y\n",
      "\u001b[0;31mOverflowError\u001b[0m: math range error"
     ]
    }
   ],
   "source": [
    "x = 1000\n",
    "t = math.exp(x)\n",
    "y = t/(1+t)\n",
    "y"
   ]
  },
  {
   "cell_type": "code",
   "execution_count": 122,
   "id": "8252cfc4",
   "metadata": {},
   "outputs": [
    {
     "data": {
      "text/plain": [
       "'little'"
      ]
     },
     "execution_count": 122,
     "metadata": {},
     "output_type": "execute_result"
    }
   ],
   "source": [
    "import sys\n",
    "sys.byteorder"
   ]
  },
  {
   "cell_type": "code",
   "execution_count": 140,
   "id": "d2dc2f82",
   "metadata": {},
   "outputs": [
    {
     "data": {
      "text/plain": [
       "b'\\x00\\xff\\x00\\x00\\x00\\x10\\x00\\x00'"
      ]
     },
     "execution_count": 140,
     "metadata": {},
     "output_type": "execute_result"
    }
   ],
   "source": [
    "import struct\n",
    "struct.pack(\"=xhxxhx\", 255, 16)"
   ]
  },
  {
   "cell_type": "code",
   "execution_count": 158,
   "id": "1bc96853",
   "metadata": {},
   "outputs": [
    {
     "name": "stdout",
     "output_type": "stream",
     "text": [
      "(b'cd',)\n"
     ]
    },
    {
     "data": {
      "text/plain": [
       "(b'c', b'd', b'f', b'd', b's', b'd', b'f', b'd', b'f', b'd')"
      ]
     },
     "execution_count": 158,
     "metadata": {},
     "output_type": "execute_result"
    }
   ],
   "source": [
    "print(struct.unpack('2s', b'cd'))\n",
    "struct.unpack('10c', b'cdfdsdfdfd')"
   ]
  },
  {
   "cell_type": "code",
   "execution_count": 210,
   "id": "8c604e65",
   "metadata": {},
   "outputs": [
    {
     "name": "stdout",
     "output_type": "stream",
     "text": [
      "[]\n",
      "Node(0)\n",
      "[<Node: _value=1>, <Node: _value=2>]\n",
      "[<Node: _value=1>, <Node: _value=2>, <itertools.chain object at 0x108371a60>, <itertools.chain object at 0x108371f40>]\n",
      "Node(1)\n",
      "Node(2)\n",
      "Node(1)\n",
      "Node(2)\n",
      "<itertools.chain object at 0x107edaf10>\n",
      "<itertools.chain object at 0x108371550>\n"
     ]
    }
   ],
   "source": [
    "import itertools\n",
    "\n",
    "class Node:\n",
    "    def __init__(self, value):\n",
    "        self._value = value\n",
    "        self._children = []\n",
    "        \n",
    "    def __str__(self):\n",
    "        return \"Node(%s)\" % self._value\n",
    "    \n",
    "    def __repr__(self):\n",
    "        return \"<Node: _value=%s>\" % self._value\n",
    "    \n",
    "    def add_child(self, node):\n",
    "        self._children.append(node)\n",
    "        \n",
    "    def __iter__(self):\n",
    "        return iter(self._children)\n",
    "        \n",
    "    def depth_first(self):\n",
    "        return itertools.chain([self], *[c.depth_first() for c in self])\n",
    "#         check how it works\n",
    "#         return itertools.chain.from_iterable((self, (c.depth_first() for c in self)))\n",
    "    \n",
    "root = Node(0)\n",
    "print(list(root))\n",
    "child1 = Node(1)\n",
    "child2 = Node(2)\n",
    "root.add_child(child1)\n",
    "root.add_child(child2)\n",
    "print(root)\n",
    "print(list(root))\n",
    "print(list(root.depth_first()))\n",
    "for e in root:\n",
    "    print(e)\n",
    "\n",
    "child1.add_child(Node(3))\n",
    "child1.add_child(Node(4))\n",
    "child2.add_child(Node(5))\n",
    "for ch in root.depth_first():\n",
    "    print(ch)"
   ]
  },
  {
   "cell_type": "code",
   "execution_count": 206,
   "id": "3f6cacfb",
   "metadata": {},
   "outputs": [
    {
     "name": "stdout",
     "output_type": "stream",
     "text": [
      "1 1 2 10 20 10 40 20 1 4 2 1\n"
     ]
    }
   ],
   "source": [
    "print(*itertools.chain([1], *[itertools.chain(*[[1],[2], itertools.chain([10,20],[10,40],[20])],[1,4],[2]), [1]]))"
   ]
  },
  {
   "cell_type": "code",
   "execution_count": null,
   "id": "0d6754ef",
   "metadata": {},
   "outputs": [],
   "source": []
  }
 ],
 "metadata": {
  "kernelspec": {
   "display_name": "Python 3 (ipykernel)",
   "language": "python",
   "name": "python3"
  },
  "language_info": {
   "codemirror_mode": {
    "name": "ipython",
    "version": 3
   },
   "file_extension": ".py",
   "mimetype": "text/x-python",
   "name": "python",
   "nbconvert_exporter": "python",
   "pygments_lexer": "ipython3",
   "version": "3.9.13"
  }
 },
 "nbformat": 4,
 "nbformat_minor": 5
}
